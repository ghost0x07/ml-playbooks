{
 "cells": [
  {
   "cell_type": "code",
   "execution_count": 584,
   "metadata": {},
   "outputs": [],
   "source": [
    "import xgboost as xgb\n",
    "import numpy as np\n",
    "import matplotlib.pyplot as plt\n",
    "import pandas as pd\n",
    "from sklearn.model_selection import train_test_split"
   ]
  },
  {
   "cell_type": "markdown",
   "metadata": {},
   "source": [
    "### Constructing the Dataset"
   ]
  },
  {
   "cell_type": "code",
   "execution_count": 585,
   "metadata": {},
   "outputs": [
    {
     "data": {
      "text/html": [
       "<div>\n",
       "<style scoped>\n",
       "    .dataframe tbody tr th:only-of-type {\n",
       "        vertical-align: middle;\n",
       "    }\n",
       "\n",
       "    .dataframe tbody tr th {\n",
       "        vertical-align: top;\n",
       "    }\n",
       "\n",
       "    .dataframe thead th {\n",
       "        text-align: right;\n",
       "    }\n",
       "</style>\n",
       "<table border=\"1\" class=\"dataframe\">\n",
       "  <thead>\n",
       "    <tr style=\"text-align: right;\">\n",
       "      <th></th>\n",
       "      <th>X</th>\n",
       "      <th>linear</th>\n",
       "      <th>square</th>\n",
       "      <th>quad</th>\n",
       "      <th>cube</th>\n",
       "      <th>cubic</th>\n",
       "      <th>exp</th>\n",
       "    </tr>\n",
       "  </thead>\n",
       "  <tbody>\n",
       "    <tr>\n",
       "      <th>0</th>\n",
       "      <td>0.00</td>\n",
       "      <td>3.00</td>\n",
       "      <td>0.0000</td>\n",
       "      <td>7.0000</td>\n",
       "      <td>0.000000e+00</td>\n",
       "      <td>1.100000e+01</td>\n",
       "      <td>1.000000e+00</td>\n",
       "    </tr>\n",
       "    <tr>\n",
       "      <th>1</th>\n",
       "      <td>0.25</td>\n",
       "      <td>4.75</td>\n",
       "      <td>0.0625</td>\n",
       "      <td>7.4375</td>\n",
       "      <td>1.562500e-02</td>\n",
       "      <td>1.295312e+01</td>\n",
       "      <td>1.059463e+00</td>\n",
       "    </tr>\n",
       "    <tr>\n",
       "      <th>2</th>\n",
       "      <td>0.50</td>\n",
       "      <td>6.50</td>\n",
       "      <td>0.2500</td>\n",
       "      <td>8.2500</td>\n",
       "      <td>1.250000e-01</td>\n",
       "      <td>1.537500e+01</td>\n",
       "      <td>1.122462e+00</td>\n",
       "    </tr>\n",
       "    <tr>\n",
       "      <th>3</th>\n",
       "      <td>0.75</td>\n",
       "      <td>8.25</td>\n",
       "      <td>0.5625</td>\n",
       "      <td>9.4375</td>\n",
       "      <td>4.218750e-01</td>\n",
       "      <td>1.835938e+01</td>\n",
       "      <td>1.189207e+00</td>\n",
       "    </tr>\n",
       "    <tr>\n",
       "      <th>4</th>\n",
       "      <td>1.00</td>\n",
       "      <td>10.00</td>\n",
       "      <td>1.0000</td>\n",
       "      <td>11.0000</td>\n",
       "      <td>1.000000e+00</td>\n",
       "      <td>2.200000e+01</td>\n",
       "      <td>1.259921e+00</td>\n",
       "    </tr>\n",
       "    <tr>\n",
       "      <th>...</th>\n",
       "      <td>...</td>\n",
       "      <td>...</td>\n",
       "      <td>...</td>\n",
       "      <td>...</td>\n",
       "      <td>...</td>\n",
       "      <td>...</td>\n",
       "      <td>...</td>\n",
       "    </tr>\n",
       "    <tr>\n",
       "      <th>595</th>\n",
       "      <td>148.75</td>\n",
       "      <td>1044.25</td>\n",
       "      <td>22126.5625</td>\n",
       "      <td>66535.4375</td>\n",
       "      <td>3.291326e+06</td>\n",
       "      <td>3.358758e+06</td>\n",
       "      <td>8.434719e+14</td>\n",
       "    </tr>\n",
       "    <tr>\n",
       "      <th>596</th>\n",
       "      <td>149.00</td>\n",
       "      <td>1046.00</td>\n",
       "      <td>22201.0000</td>\n",
       "      <td>66759.0000</td>\n",
       "      <td>3.307949e+06</td>\n",
       "      <td>3.375606e+06</td>\n",
       "      <td>8.936273e+14</td>\n",
       "    </tr>\n",
       "    <tr>\n",
       "      <th>597</th>\n",
       "      <td>149.25</td>\n",
       "      <td>1047.75</td>\n",
       "      <td>22275.5625</td>\n",
       "      <td>66982.9375</td>\n",
       "      <td>3.324628e+06</td>\n",
       "      <td>3.392510e+06</td>\n",
       "      <td>9.467652e+14</td>\n",
       "    </tr>\n",
       "    <tr>\n",
       "      <th>598</th>\n",
       "      <td>149.50</td>\n",
       "      <td>1049.50</td>\n",
       "      <td>22350.2500</td>\n",
       "      <td>67207.2500</td>\n",
       "      <td>3.341362e+06</td>\n",
       "      <td>3.409471e+06</td>\n",
       "      <td>1.003063e+15</td>\n",
       "    </tr>\n",
       "    <tr>\n",
       "      <th>599</th>\n",
       "      <td>149.75</td>\n",
       "      <td>1051.25</td>\n",
       "      <td>22425.0625</td>\n",
       "      <td>67431.9375</td>\n",
       "      <td>3.358153e+06</td>\n",
       "      <td>3.426488e+06</td>\n",
       "      <td>1.062708e+15</td>\n",
       "    </tr>\n",
       "  </tbody>\n",
       "</table>\n",
       "<p>600 rows × 7 columns</p>\n",
       "</div>"
      ],
      "text/plain": [
       "          X   linear      square        quad          cube         cubic  \\\n",
       "0      0.00     3.00      0.0000      7.0000  0.000000e+00  1.100000e+01   \n",
       "1      0.25     4.75      0.0625      7.4375  1.562500e-02  1.295312e+01   \n",
       "2      0.50     6.50      0.2500      8.2500  1.250000e-01  1.537500e+01   \n",
       "3      0.75     8.25      0.5625      9.4375  4.218750e-01  1.835938e+01   \n",
       "4      1.00    10.00      1.0000     11.0000  1.000000e+00  2.200000e+01   \n",
       "..      ...      ...         ...         ...           ...           ...   \n",
       "595  148.75  1044.25  22126.5625  66535.4375  3.291326e+06  3.358758e+06   \n",
       "596  149.00  1046.00  22201.0000  66759.0000  3.307949e+06  3.375606e+06   \n",
       "597  149.25  1047.75  22275.5625  66982.9375  3.324628e+06  3.392510e+06   \n",
       "598  149.50  1049.50  22350.2500  67207.2500  3.341362e+06  3.409471e+06   \n",
       "599  149.75  1051.25  22425.0625  67431.9375  3.358153e+06  3.426488e+06   \n",
       "\n",
       "              exp  \n",
       "0    1.000000e+00  \n",
       "1    1.059463e+00  \n",
       "2    1.122462e+00  \n",
       "3    1.189207e+00  \n",
       "4    1.259921e+00  \n",
       "..            ...  \n",
       "595  8.434719e+14  \n",
       "596  8.936273e+14  \n",
       "597  9.467652e+14  \n",
       "598  1.003063e+15  \n",
       "599  1.062708e+15  \n",
       "\n",
       "[600 rows x 7 columns]"
      ]
     },
     "execution_count": 585,
     "metadata": {},
     "output_type": "execute_result"
    }
   ],
   "source": [
    "X = np.arange(0,150,0.25)\n",
    "\n",
    "linear = 7*X+3\n",
    "square = X**2\n",
    "quad = 3*X**2 + X + 7\n",
    "cube = X**3\n",
    "cubic = X**3 + 3 * X**2 + 7 * X + 11\n",
    "exp = 2**(X/3)\n",
    "linear_str = \"7*X+3\"\n",
    "square_str = \"X**2\"\n",
    "quad_str = \"3*X**2 + X + 7\"\n",
    "cube_str = \"X**3\"\n",
    "cubic_str = \"X**3 + 3 * X**2 + 7 * X + 11\"\n",
    "exp_str = \"2**(X/3)\"\n",
    "\n",
    "df = pd.DataFrame({\n",
    "    \"X\":X,\n",
    "    \"linear\":linear,\n",
    "    \"square\":square,\n",
    "    \"quad\":quad,\n",
    "    \"cube\":cube,\n",
    "    \"cubic\":cubic,\n",
    "    \"exp\":exp\n",
    "})\n",
    "\n",
    "df"
   ]
  },
  {
   "cell_type": "code",
   "execution_count": 586,
   "metadata": {},
   "outputs": [
    {
     "data": {
      "text/plain": [
       "(600, 7)"
      ]
     },
     "execution_count": 586,
     "metadata": {},
     "output_type": "execute_result"
    }
   ],
   "source": [
    "df.shape"
   ]
  },
  {
   "cell_type": "code",
   "execution_count": 587,
   "metadata": {},
   "outputs": [
    {
     "data": {
      "text/html": [
       "<div>\n",
       "<style scoped>\n",
       "    .dataframe tbody tr th:only-of-type {\n",
       "        vertical-align: middle;\n",
       "    }\n",
       "\n",
       "    .dataframe tbody tr th {\n",
       "        vertical-align: top;\n",
       "    }\n",
       "\n",
       "    .dataframe thead th {\n",
       "        text-align: right;\n",
       "    }\n",
       "</style>\n",
       "<table border=\"1\" class=\"dataframe\">\n",
       "  <thead>\n",
       "    <tr style=\"text-align: right;\">\n",
       "      <th></th>\n",
       "      <th>X</th>\n",
       "      <th>linear</th>\n",
       "      <th>square</th>\n",
       "      <th>quad</th>\n",
       "      <th>cube</th>\n",
       "      <th>cubic</th>\n",
       "      <th>exp</th>\n",
       "    </tr>\n",
       "  </thead>\n",
       "  <tbody>\n",
       "    <tr>\n",
       "      <th>X</th>\n",
       "      <td>1.000000</td>\n",
       "      <td>1.000000</td>\n",
       "      <td>0.968145</td>\n",
       "      <td>0.968280</td>\n",
       "      <td>0.916346</td>\n",
       "      <td>0.917723</td>\n",
       "      <td>0.403950</td>\n",
       "    </tr>\n",
       "    <tr>\n",
       "      <th>linear</th>\n",
       "      <td>1.000000</td>\n",
       "      <td>1.000000</td>\n",
       "      <td>0.968145</td>\n",
       "      <td>0.968280</td>\n",
       "      <td>0.916346</td>\n",
       "      <td>0.917723</td>\n",
       "      <td>0.403950</td>\n",
       "    </tr>\n",
       "    <tr>\n",
       "      <th>square</th>\n",
       "      <td>0.968145</td>\n",
       "      <td>0.968145</td>\n",
       "      <td>1.000000</td>\n",
       "      <td>1.000000</td>\n",
       "      <td>0.986002</td>\n",
       "      <td>0.986589</td>\n",
       "      <td>0.507047</td>\n",
       "    </tr>\n",
       "    <tr>\n",
       "      <th>quad</th>\n",
       "      <td>0.968280</td>\n",
       "      <td>0.968280</td>\n",
       "      <td>1.000000</td>\n",
       "      <td>1.000000</td>\n",
       "      <td>0.985920</td>\n",
       "      <td>0.986509</td>\n",
       "      <td>0.506860</td>\n",
       "    </tr>\n",
       "    <tr>\n",
       "      <th>cube</th>\n",
       "      <td>0.916346</td>\n",
       "      <td>0.916346</td>\n",
       "      <td>0.986002</td>\n",
       "      <td>0.985920</td>\n",
       "      <td>1.000000</td>\n",
       "      <td>0.999994</td>\n",
       "      <td>0.583662</td>\n",
       "    </tr>\n",
       "    <tr>\n",
       "      <th>cubic</th>\n",
       "      <td>0.917723</td>\n",
       "      <td>0.917723</td>\n",
       "      <td>0.986589</td>\n",
       "      <td>0.986509</td>\n",
       "      <td>0.999994</td>\n",
       "      <td>1.000000</td>\n",
       "      <td>0.582206</td>\n",
       "    </tr>\n",
       "    <tr>\n",
       "      <th>exp</th>\n",
       "      <td>0.403950</td>\n",
       "      <td>0.403950</td>\n",
       "      <td>0.507047</td>\n",
       "      <td>0.506860</td>\n",
       "      <td>0.583662</td>\n",
       "      <td>0.582206</td>\n",
       "      <td>1.000000</td>\n",
       "    </tr>\n",
       "  </tbody>\n",
       "</table>\n",
       "</div>"
      ],
      "text/plain": [
       "               X    linear    square      quad      cube     cubic       exp\n",
       "X       1.000000  1.000000  0.968145  0.968280  0.916346  0.917723  0.403950\n",
       "linear  1.000000  1.000000  0.968145  0.968280  0.916346  0.917723  0.403950\n",
       "square  0.968145  0.968145  1.000000  1.000000  0.986002  0.986589  0.507047\n",
       "quad    0.968280  0.968280  1.000000  1.000000  0.985920  0.986509  0.506860\n",
       "cube    0.916346  0.916346  0.986002  0.985920  1.000000  0.999994  0.583662\n",
       "cubic   0.917723  0.917723  0.986589  0.986509  0.999994  1.000000  0.582206\n",
       "exp     0.403950  0.403950  0.507047  0.506860  0.583662  0.582206  1.000000"
      ]
     },
     "execution_count": 587,
     "metadata": {},
     "output_type": "execute_result"
    }
   ],
   "source": [
    "df.corr()"
   ]
  },
  {
   "cell_type": "markdown",
   "metadata": {},
   "source": [
    "### Experiments:\n",
    "\n",
    "1. Compare XGBoost vs Linear Regression for different curves\n",
    "1. Predict everything from everything else one at a time.\n",
    "1. Predict everything from everything else.\n",
    "\n",
    "### Outputs\n",
    "\n",
    "1. Correlation data\n",
    "1. Scatter Plots\n",
    "2. Sort and Line Plots\n",
    "3. RMSE\n",
    "4. Histogram\n",
    "5. Overfitting and Underfitting stats"
   ]
  },
  {
   "cell_type": "markdown",
   "metadata": {},
   "source": [
    "## Rough Work"
   ]
  },
  {
   "cell_type": "markdown",
   "metadata": {},
   "source": [
    "### Working with Square curve"
   ]
  },
  {
   "cell_type": "code",
   "execution_count": 588,
   "metadata": {},
   "outputs": [
    {
     "data": {
      "image/png": "[encoded data removed]",
      "text/plain": [
       "<Figure size 432x288 with 1 Axes>"
      ]
     },
     "metadata": {
      "needs_background": "light"
     },
     "output_type": "display_data"
    }
   ],
   "source": [
    "X = df[[\"X\"]]\n",
    "y = df[\"square\"]\n",
    "\n",
    "plt.plot(X,y)\n",
    "plt.title(\"Square Curve\")\n",
    "plt.xlabel(\"x\")\n",
    "plt.ylabel(square_str)\n",
    "plt.grid()"
   ]
  },
  {
   "cell_type": "markdown",
   "metadata": {},
   "source": [
    "### Train Test Split"
   ]
  },
  {
   "cell_type": "code",
   "execution_count": 589,
   "metadata": {},
   "outputs": [],
   "source": [
    "X_train,X_valid,y_train,y_valid = train_test_split(X,y,random_state=420,train_size=0.8)"
   ]
  },
  {
   "cell_type": "code",
   "execution_count": 590,
   "metadata": {},
   "outputs": [
    {
     "name": "stdout",
     "output_type": "stream",
     "text": [
      "(480, 1) (120, 1)\n"
     ]
    }
   ],
   "source": [
    "print(X_train.shape,X_valid.shape)"
   ]
  },
  {
   "cell_type": "code",
   "execution_count": 591,
   "metadata": {},
   "outputs": [
    {
     "data": {
      "image/png": "[encoded data removed]",
      "text/plain": [
       "<Figure size 432x288 with 1 Axes>"
      ]
     },
     "metadata": {
      "needs_background": "light"
     },
     "output_type": "display_data"
    }
   ],
   "source": [
    "plt.scatter(X_train,y_train,label=\"Training set\")\n",
    "plt.scatter(X_valid,y_valid,label=\"Validation set\")\n",
    "\n",
    "plt.grid()\n",
    "plt.legend()\n",
    "plt.xlabel(\"X\")\n",
    "plt.ylabel(square_str)\n",
    "plt.show()"
   ]
  },
  {
   "cell_type": "markdown",
   "metadata": {},
   "source": [
    "### XGB: Using X as a feature"
   ]
  },
  {
   "cell_type": "code",
   "execution_count": 592,
   "metadata": {},
   "outputs": [
    {
     "name": "stdout",
     "output_type": "stream",
     "text": [
      "[0]\tvalidation_0-rmse:7167.79327\tvalidation_1-rmse:6837.73947\n",
      "[1]\tvalidation_0-rmse:5066.06987\tvalidation_1-rmse:4877.42363\n",
      "[2]\tvalidation_0-rmse:3588.40654\tvalidation_1-rmse:3441.75846\n",
      "[3]\tvalidation_0-rmse:2543.19358\tvalidation_1-rmse:2435.88666\n",
      "[4]\tvalidation_0-rmse:1803.35806\tvalidation_1-rmse:1739.90191\n",
      "[5]\tvalidation_0-rmse:1282.89831\tvalidation_1-rmse:1244.48794\n",
      "[6]\tvalidation_0-rmse:915.47379\tvalidation_1-rmse:897.12393\n",
      "[7]\tvalidation_0-rmse:657.09202\tvalidation_1-rmse:654.77651\n",
      "[8]\tvalidation_0-rmse:476.03689\tvalidation_1-rmse:483.60363\n",
      "[9]\tvalidation_0-rmse:350.29480\tvalidation_1-rmse:364.12750\n",
      "[10]\tvalidation_0-rmse:263.04793\tvalidation_1-rmse:277.19898\n",
      "[11]\tvalidation_0-rmse:200.94134\tvalidation_1-rmse:208.31917\n",
      "[12]\tvalidation_0-rmse:159.97643\tvalidation_1-rmse:164.28047\n",
      "[13]\tvalidation_0-rmse:130.38361\tvalidation_1-rmse:130.02939\n",
      "[14]\tvalidation_0-rmse:111.03110\tvalidation_1-rmse:105.96691\n",
      "[15]\tvalidation_0-rmse:97.90048\tvalidation_1-rmse:89.71191\n",
      "[16]\tvalidation_0-rmse:84.68193\tvalidation_1-rmse:78.13294\n",
      "[17]\tvalidation_0-rmse:76.57921\tvalidation_1-rmse:66.46686\n",
      "[18]\tvalidation_0-rmse:69.41364\tvalidation_1-rmse:60.59944\n",
      "[19]\tvalidation_0-rmse:66.22811\tvalidation_1-rmse:55.34163\n",
      "[20]\tvalidation_0-rmse:63.58360\tvalidation_1-rmse:52.40679\n",
      "[21]\tvalidation_0-rmse:59.33575\tvalidation_1-rmse:49.70655\n",
      "[22]\tvalidation_0-rmse:56.49046\tvalidation_1-rmse:48.45502\n",
      "[23]\tvalidation_0-rmse:53.49725\tvalidation_1-rmse:45.31048\n",
      "[24]\tvalidation_0-rmse:52.49290\tvalidation_1-rmse:44.06214\n",
      "[25]\tvalidation_0-rmse:50.24828\tvalidation_1-rmse:42.32579\n",
      "[26]\tvalidation_0-rmse:48.75604\tvalidation_1-rmse:41.22432\n",
      "[27]\tvalidation_0-rmse:46.73690\tvalidation_1-rmse:40.64728\n",
      "[28]\tvalidation_0-rmse:45.28874\tvalidation_1-rmse:39.29839\n",
      "[29]\tvalidation_0-rmse:44.54286\tvalidation_1-rmse:38.76691\n",
      "[30]\tvalidation_0-rmse:42.68158\tvalidation_1-rmse:37.21577\n",
      "[31]\tvalidation_0-rmse:42.19317\tvalidation_1-rmse:37.10742\n",
      "[32]\tvalidation_0-rmse:41.67021\tvalidation_1-rmse:36.67016\n",
      "[33]\tvalidation_0-rmse:40.11249\tvalidation_1-rmse:35.59518\n",
      "[34]\tvalidation_0-rmse:39.68466\tvalidation_1-rmse:35.22887\n",
      "[35]\tvalidation_0-rmse:38.98475\tvalidation_1-rmse:34.70049\n",
      "[36]\tvalidation_0-rmse:38.02993\tvalidation_1-rmse:34.00286\n",
      "[37]\tvalidation_0-rmse:37.64116\tvalidation_1-rmse:33.58931\n",
      "[38]\tvalidation_0-rmse:37.20577\tvalidation_1-rmse:33.34580\n",
      "[39]\tvalidation_0-rmse:36.50584\tvalidation_1-rmse:32.88043\n",
      "[40]\tvalidation_0-rmse:35.60362\tvalidation_1-rmse:32.64710\n",
      "[41]\tvalidation_0-rmse:34.83458\tvalidation_1-rmse:31.70770\n",
      "[42]\tvalidation_0-rmse:33.84962\tvalidation_1-rmse:29.84708\n",
      "[43]\tvalidation_0-rmse:32.90952\tvalidation_1-rmse:28.97948\n",
      "[44]\tvalidation_0-rmse:32.64236\tvalidation_1-rmse:28.72245\n",
      "[45]\tvalidation_0-rmse:31.33956\tvalidation_1-rmse:28.38974\n",
      "[46]\tvalidation_0-rmse:30.69106\tvalidation_1-rmse:27.96162\n",
      "[47]\tvalidation_0-rmse:29.63502\tvalidation_1-rmse:27.36727\n",
      "[48]\tvalidation_0-rmse:29.08589\tvalidation_1-rmse:26.52307\n",
      "[49]\tvalidation_0-rmse:29.00813\tvalidation_1-rmse:26.40996\n",
      "[50]\tvalidation_0-rmse:28.52201\tvalidation_1-rmse:25.87455\n",
      "[51]\tvalidation_0-rmse:27.86059\tvalidation_1-rmse:25.04962\n",
      "[52]\tvalidation_0-rmse:27.40281\tvalidation_1-rmse:25.01071\n",
      "[53]\tvalidation_0-rmse:27.07975\tvalidation_1-rmse:24.97166\n",
      "[54]\tvalidation_0-rmse:26.96588\tvalidation_1-rmse:24.91109\n",
      "[55]\tvalidation_0-rmse:26.59653\tvalidation_1-rmse:24.26037\n",
      "[56]\tvalidation_0-rmse:26.16359\tvalidation_1-rmse:23.22028\n",
      "[57]\tvalidation_0-rmse:25.63286\tvalidation_1-rmse:22.80927\n",
      "[58]\tvalidation_0-rmse:24.93084\tvalidation_1-rmse:22.58210\n",
      "[59]\tvalidation_0-rmse:24.58126\tvalidation_1-rmse:22.30550\n",
      "[60]\tvalidation_0-rmse:24.39923\tvalidation_1-rmse:22.10789\n",
      "[61]\tvalidation_0-rmse:24.27830\tvalidation_1-rmse:22.00319\n",
      "[62]\tvalidation_0-rmse:23.89018\tvalidation_1-rmse:21.84126\n",
      "[63]\tvalidation_0-rmse:23.48297\tvalidation_1-rmse:21.43600\n",
      "[64]\tvalidation_0-rmse:23.33831\tvalidation_1-rmse:21.31679\n",
      "[65]\tvalidation_0-rmse:23.25563\tvalidation_1-rmse:21.25937\n",
      "[66]\tvalidation_0-rmse:22.73215\tvalidation_1-rmse:21.20383\n",
      "[67]\tvalidation_0-rmse:22.41961\tvalidation_1-rmse:21.04813\n",
      "[68]\tvalidation_0-rmse:22.06537\tvalidation_1-rmse:20.85727\n",
      "[69]\tvalidation_0-rmse:21.78881\tvalidation_1-rmse:20.40145\n",
      "[70]\tvalidation_0-rmse:21.38865\tvalidation_1-rmse:19.97300\n",
      "[71]\tvalidation_0-rmse:21.26861\tvalidation_1-rmse:19.92311\n",
      "[72]\tvalidation_0-rmse:21.14930\tvalidation_1-rmse:19.81633\n",
      "[73]\tvalidation_0-rmse:20.70789\tvalidation_1-rmse:19.19798\n",
      "[74]\tvalidation_0-rmse:20.30243\tvalidation_1-rmse:18.78986\n",
      "[75]\tvalidation_0-rmse:19.93678\tvalidation_1-rmse:18.25542\n",
      "[76]\tvalidation_0-rmse:19.72609\tvalidation_1-rmse:18.11812\n",
      "[77]\tvalidation_0-rmse:19.32848\tvalidation_1-rmse:18.05947\n",
      "[78]\tvalidation_0-rmse:18.87647\tvalidation_1-rmse:17.85491\n",
      "[79]\tvalidation_0-rmse:18.57970\tvalidation_1-rmse:17.80293\n",
      "[80]\tvalidation_0-rmse:18.25350\tvalidation_1-rmse:17.52109\n",
      "[81]\tvalidation_0-rmse:17.99047\tvalidation_1-rmse:17.15219\n",
      "[82]\tvalidation_0-rmse:17.66855\tvalidation_1-rmse:16.81922\n",
      "[83]\tvalidation_0-rmse:17.40081\tvalidation_1-rmse:16.65186\n",
      "[84]\tvalidation_0-rmse:17.19275\tvalidation_1-rmse:16.19961\n",
      "[85]\tvalidation_0-rmse:17.01613\tvalidation_1-rmse:15.90448\n",
      "[86]\tvalidation_0-rmse:16.73053\tvalidation_1-rmse:15.86760\n",
      "[87]\tvalidation_0-rmse:16.68534\tvalidation_1-rmse:15.75222\n",
      "[88]\tvalidation_0-rmse:16.46445\tvalidation_1-rmse:15.65810\n",
      "[89]\tvalidation_0-rmse:16.27332\tvalidation_1-rmse:15.65031\n",
      "[90]\tvalidation_0-rmse:16.24112\tvalidation_1-rmse:15.65001\n",
      "[91]\tvalidation_0-rmse:16.05087\tvalidation_1-rmse:15.34190\n",
      "[92]\tvalidation_0-rmse:15.95703\tvalidation_1-rmse:15.25929\n",
      "[93]\tvalidation_0-rmse:15.75709\tvalidation_1-rmse:15.17112\n",
      "[94]\tvalidation_0-rmse:15.48208\tvalidation_1-rmse:14.95266\n",
      "[95]\tvalidation_0-rmse:15.41612\tvalidation_1-rmse:14.89527\n",
      "[96]\tvalidation_0-rmse:15.33464\tvalidation_1-rmse:14.82610\n",
      "[97]\tvalidation_0-rmse:15.24314\tvalidation_1-rmse:14.80933\n",
      "[98]\tvalidation_0-rmse:15.18004\tvalidation_1-rmse:14.79296\n",
      "[99]\tvalidation_0-rmse:15.00199\tvalidation_1-rmse:14.41196\n"
     ]
    },
    {
     "data": {
      "text/html": [
       "<style>#sk-container-id-42 {color: black;background-color: white;}#sk-container-id-42 pre{padding: 0;}#sk-container-id-42 div.sk-toggleable {background-color: white;}#sk-container-id-42 label.sk-toggleable__label {cursor: pointer;display: block;width: 100%;margin-bottom: 0;padding: 0.3em;box-sizing: border-box;text-align: center;}#sk-container-id-42 label.sk-toggleable__label-arrow:before {content: \"▸\";float: left;margin-right: 0.25em;color: #696969;}#sk-container-id-42 label.sk-toggleable__label-arrow:hover:before {color: black;}#sk-container-id-42 div.sk-estimator:hover label.sk-toggleable__label-arrow:before {color: black;}#sk-container-id-42 div.sk-toggleable__content {max-height: 0;max-width: 0;overflow: hidden;text-align: left;background-color: #f0f8ff;}#sk-container-id-42 div.sk-toggleable__content pre {margin: 0.2em;color: black;border-radius: 0.25em;background-color: #f0f8ff;}#sk-container-id-42 input.sk-toggleable__control:checked~div.sk-toggleable__content {max-height: 200px;max-width: 100%;overflow: auto;}#sk-container-id-42 input.sk-toggleable__control:checked~label.sk-toggleable__label-arrow:before {content: \"▾\";}#sk-container-id-42 div.sk-estimator input.sk-toggleable__control:checked~label.sk-toggleable__label {background-color: #d4ebff;}#sk-container-id-42 div.sk-label input.sk-toggleable__control:checked~label.sk-toggleable__label {background-color: #d4ebff;}#sk-container-id-42 input.sk-hidden--visually {border: 0;clip: rect(1px 1px 1px 1px);clip: rect(1px, 1px, 1px, 1px);height: 1px;margin: -1px;overflow: hidden;padding: 0;position: absolute;width: 1px;}#sk-container-id-42 div.sk-estimator {font-family: monospace;background-color: #f0f8ff;border: 1px dotted black;border-radius: 0.25em;box-sizing: border-box;margin-bottom: 0.5em;}#sk-container-id-42 div.sk-estimator:hover {background-color: #d4ebff;}#sk-container-id-42 div.sk-parallel-item::after {content: \"\";width: 100%;border-bottom: 1px solid gray;flex-grow: 1;}#sk-container-id-42 div.sk-label:hover label.sk-toggleable__label {background-color: #d4ebff;}#sk-container-id-42 div.sk-serial::before {content: \"\";position: absolute;border-left: 1px solid gray;box-sizing: border-box;top: 0;bottom: 0;left: 50%;z-index: 0;}#sk-container-id-42 div.sk-serial {display: flex;flex-direction: column;align-items: center;background-color: white;padding-right: 0.2em;padding-left: 0.2em;position: relative;}#sk-container-id-42 div.sk-item {position: relative;z-index: 1;}#sk-container-id-42 div.sk-parallel {display: flex;align-items: stretch;justify-content: center;background-color: white;position: relative;}#sk-container-id-42 div.sk-item::before, #sk-container-id-42 div.sk-parallel-item::before {content: \"\";position: absolute;border-left: 1px solid gray;box-sizing: border-box;top: 0;bottom: 0;left: 50%;z-index: -1;}#sk-container-id-42 div.sk-parallel-item {display: flex;flex-direction: column;z-index: 1;position: relative;background-color: white;}#sk-container-id-42 div.sk-parallel-item:first-child::after {align-self: flex-end;width: 50%;}#sk-container-id-42 div.sk-parallel-item:last-child::after {align-self: flex-start;width: 50%;}#sk-container-id-42 div.sk-parallel-item:only-child::after {width: 0;}#sk-container-id-42 div.sk-dashed-wrapped {border: 1px dashed gray;margin: 0 0.4em 0.5em 0.4em;box-sizing: border-box;padding-bottom: 0.4em;background-color: white;}#sk-container-id-42 div.sk-label label {font-family: monospace;font-weight: bold;display: inline-block;line-height: 1.2em;}#sk-container-id-42 div.sk-label-container {text-align: center;}#sk-container-id-42 div.sk-container {/* jupyter's `normalize.less` sets `[hidden] { display: none; }` but bootstrap.min.css set `[hidden] { display: none !important; }` so we also need the `!important` here to be able to override the default hidden behavior on the sphinx rendered scikit-learn.org. See: https://github.com/scikit-learn/scikit-learn/issues/21755 */display: inline-block !important;position: relative;}#sk-container-id-42 div.sk-text-repr-fallback {display: none;}</style><div id=\"sk-container-id-42\" class=\"sk-top-container\"><div class=\"sk-text-repr-fallback\"><pre>XGBRegressor(base_score=0.5, booster=&#x27;gbtree&#x27;, callbacks=None,\n",
       "             colsample_bylevel=1, colsample_bynode=1, colsample_bytree=1,\n",
       "             early_stopping_rounds=None, enable_categorical=False,\n",
       "             eval_metric=None, gamma=0, gpu_id=-1, grow_policy=&#x27;depthwise&#x27;,\n",
       "             importance_type=None, interaction_constraints=&#x27;&#x27;,\n",
       "             learning_rate=0.300000012, max_bin=256, max_cat_to_onehot=4,\n",
       "             max_delta_step=0, max_depth=6, max_leaves=0, min_child_weight=1,\n",
       "             missing=nan, monotone_constraints=&#x27;()&#x27;, n_estimators=100, n_jobs=0,\n",
       "             num_parallel_tree=1, predictor=&#x27;auto&#x27;, random_state=0, reg_alpha=0,\n",
       "             reg_lambda=1, ...)</pre><b>In a Jupyter environment, please rerun this cell to show the HTML representation or trust the notebook. <br />On GitHub, the HTML representation is unable to render, please try loading this page with nbviewer.org.</b></div><div class=\"sk-container\" hidden><div class=\"sk-item\"><div class=\"sk-estimator sk-toggleable\"><input class=\"sk-toggleable__control sk-hidden--visually\" id=\"sk-estimator-id-42\" type=\"checkbox\" checked><label for=\"sk-estimator-id-42\" class=\"sk-toggleable__label sk-toggleable__label-arrow\">XGBRegressor</label><div class=\"sk-toggleable__content\"><pre>XGBRegressor(base_score=0.5, booster=&#x27;gbtree&#x27;, callbacks=None,\n",
       "             colsample_bylevel=1, colsample_bynode=1, colsample_bytree=1,\n",
       "             early_stopping_rounds=None, enable_categorical=False,\n",
       "             eval_metric=None, gamma=0, gpu_id=-1, grow_policy=&#x27;depthwise&#x27;,\n",
       "             importance_type=None, interaction_constraints=&#x27;&#x27;,\n",
       "             learning_rate=0.300000012, max_bin=256, max_cat_to_onehot=4,\n",
       "             max_delta_step=0, max_depth=6, max_leaves=0, min_child_weight=1,\n",
       "             missing=nan, monotone_constraints=&#x27;()&#x27;, n_estimators=100, n_jobs=0,\n",
       "             num_parallel_tree=1, predictor=&#x27;auto&#x27;, random_state=0, reg_alpha=0,\n",
       "             reg_lambda=1, ...)</pre></div></div></div></div></div>"
      ],
      "text/plain": [
       "XGBRegressor(base_score=0.5, booster='gbtree', callbacks=None,\n",
       "             colsample_bylevel=1, colsample_bynode=1, colsample_bytree=1,\n",
       "             early_stopping_rounds=None, enable_categorical=False,\n",
       "             eval_metric=None, gamma=0, gpu_id=-1, grow_policy='depthwise',\n",
       "             importance_type=None, interaction_constraints='',\n",
       "             learning_rate=0.300000012, max_bin=256, max_cat_to_onehot=4,\n",
       "             max_delta_step=0, max_depth=6, max_leaves=0, min_child_weight=1,\n",
       "             missing=nan, monotone_constraints='()', n_estimators=100, n_jobs=0,\n",
       "             num_parallel_tree=1, predictor='auto', random_state=0, reg_alpha=0,\n",
       "             reg_lambda=1, ...)"
      ]
     },
     "execution_count": 592,
     "metadata": {},
     "output_type": "execute_result"
    }
   ],
   "source": [
    "regressor = xgb.XGBRegressor()\n",
    "regressor.fit(X,y,eval_set=[(X_train,y_train),(X_valid,y_valid)])"
   ]
  },
  {
   "cell_type": "markdown",
   "metadata": {},
   "source": [
    "### RMSE"
   ]
  },
  {
   "cell_type": "code",
   "execution_count": 593,
   "metadata": {},
   "outputs": [
    {
     "data": {
      "image/png": "[encoded data removed]",
      "text/plain": [
       "<Figure size 432x288 with 1 Axes>"
      ]
     },
     "metadata": {
      "needs_background": "light"
     },
     "output_type": "display_data"
    }
   ],
   "source": [
    "eval_results = regressor.evals_result()\n",
    "\n",
    "rounds = range(len(eval_results[\"validation_0\"][\"rmse\"]))\n",
    "\n",
    "plt.scatter(rounds,eval_results[\"validation_0\"][\"rmse\"],label=\"Training RMSE\")\n",
    "plt.scatter(rounds,eval_results[\"validation_1\"][\"rmse\"],label=\"Validation RMSE\")\n",
    "\n",
    "plt.grid()\n",
    "plt.legend()\n",
    "plt.xlabel(\"Rounds\")\n",
    "plt.ylabel(\"RMSE\")\n",
    "plt.show()"
   ]
  },
  {
   "cell_type": "markdown",
   "metadata": {},
   "source": [
    "### Predicting Complete Data Set"
   ]
  },
  {
   "cell_type": "code",
   "execution_count": 594,
   "metadata": {},
   "outputs": [
    {
     "data": {
      "image/png": "[encoded data removed]",
      "text/plain": [
       "<Figure size 432x288 with 1 Axes>"
      ]
     },
     "metadata": {
      "needs_background": "light"
     },
     "output_type": "display_data"
    }
   ],
   "source": [
    "y_pred = regressor.predict(X)\n",
    "\n",
    "plt.plot(X,y_pred,label=\"Prediction\")\n",
    "plt.plot(X,y,label=\"Actual\",alpha=0.7)\n",
    "\n",
    "plt.grid()\n",
    "plt.legend()\n",
    "plt.xlabel(\"X\")\n",
    "plt.ylabel(square_str)\n",
    "plt.show()"
   ]
  },
  {
   "cell_type": "code",
   "execution_count": 595,
   "metadata": {},
   "outputs": [
    {
     "name": "stdout",
     "output_type": "stream",
     "text": [
      "Actual: 4356.0, Prediction: 4368.421875, diff: -12.421875\n",
      "Actual: 17556.25, Prediction: 17532.8984375, diff: 23.3515625\n",
      "Actual: 0.0625, Prediction: 2.157797336578369, diff: -2.095297336578369\n",
      "Actual: 15500.25, Prediction: 15481.30078125, diff: 18.94921875\n",
      "Actual: 16320.0625, Prediction: 16355.0322265625, diff: -34.9697265625\n"
     ]
    }
   ],
   "source": [
    "for i in np.random.randint(0,len(y),5):\n",
    "    print(f\"Actual: {y[i]}, Prediction: {y_pred[i]}, diff: {y[i]-y_pred[i]}\")"
   ]
  },
  {
   "cell_type": "code",
   "execution_count": 596,
   "metadata": {},
   "outputs": [
    {
     "data": {
      "image/png": "[encoded data removed]",
      "text/plain": [
       "<Figure size 432x288 with 1 Axes>"
      ]
     },
     "metadata": {
      "needs_background": "light"
     },
     "output_type": "display_data"
    }
   ],
   "source": [
    "y_pred = regressor.predict(X_valid)\n",
    "\n",
    "plt.scatter(X_valid,y_pred,label=\"Prediction\")\n",
    "plt.scatter(X_valid,y_valid,label=\"Actual\",alpha=0.7)\n",
    "\n",
    "plt.grid()\n",
    "plt.legend()\n",
    "plt.xlabel(\"X\")\n",
    "plt.ylabel(square_str)\n",
    "plt.show()"
   ]
  },
  {
   "cell_type": "code",
   "execution_count": 597,
   "metadata": {},
   "outputs": [
    {
     "name": "stdout",
     "output_type": "stream",
     "text": [
      "Actual: 4624.0, Prediction: 4582.453125, diff: 41.546875\n",
      "Actual: 4323.0625, Prediction: 4368.421875, diff: -45.359375\n",
      "Actual: 15314.0625, Prediction: 15338.9482421875, diff: -24.8857421875\n",
      "Actual: 18157.5625, Prediction: 18150.80859375, diff: 6.75390625\n",
      "Actual: 8281.0, Prediction: 8277.1552734375, diff: 3.8447265625\n"
     ]
    }
   ],
   "source": [
    "y_valid.reset_index(drop=True,inplace=True)\n",
    "y_diff=y_valid-y_pred\n",
    "for i in np.random.randint(0,len(y_valid),5):\n",
    "    print(f\"Actual: {y_valid[i]}, Prediction: {y_pred[i]}, diff: {y_diff[i]}\")"
   ]
  },
  {
   "cell_type": "code",
   "execution_count": 598,
   "metadata": {},
   "outputs": [
    {
     "data": {
      "image/png": "[encoded data removed]",
      "text/plain": [
       "<Figure size 432x288 with 1 Axes>"
      ]
     },
     "metadata": {
      "needs_background": "light"
     },
     "output_type": "display_data"
    }
   ],
   "source": [
    "plt.hist(y_diff)\n",
    "plt.axvline(color=\"r\")\n",
    "plt.grid()\n",
    "plt.show()"
   ]
  },
  {
   "cell_type": "code",
   "execution_count": 599,
   "metadata": {},
   "outputs": [
    {
     "name": "stdout",
     "output_type": "stream",
     "text": [
      "Over Predictions: 66\n",
      "Under Predictions: 54\n"
     ]
    }
   ],
   "source": [
    "overpredictions = (y_diff>0).sum()\n",
    "underpredictions = len(y_diff) - overpredictions\n",
    "\n",
    "print(f\"Over Predictions: {overpredictions}\")\n",
    "print(f\"Under Predictions: {underpredictions}\")\n"
   ]
  }
 ],
 "metadata": {
  "interpreter": {
   "hash": "f98413bbec3b489b7eb988564fa3973e9adda6fc666fdce2b0ebcf0e302649d5"
  },
  "kernelspec": {
   "display_name": "Python 3.10.3 ('env': venv)",
   "language": "python",
   "name": "python3"
  },
  "language_info": {
   "codemirror_mode": {
    "name": "ipython",
    "version": 3
   },
   "file_extension": ".py",
   "mimetype": "text/x-python",
   "name": "python",
   "nbconvert_exporter": "python",
   "pygments_lexer": "ipython3",
   "version": "3.10.3"
  },
  "orig_nbformat": 4
 },
 "nbformat": 4,
 "nbformat_minor": 2
}
